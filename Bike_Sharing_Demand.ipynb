{
  "nbformat": 4,
  "nbformat_minor": 0,
  "metadata": {
    "colab": {
      "name": "Bike_Sharing_Demand.ipynb",
      "provenance": [],
      "collapsed_sections": []
    },
    "kernelspec": {
      "name": "python3",
      "display_name": "Python 3"
    },
    "language_info": {
      "name": "python"
    }
  },
  "cells": [
    {
      "cell_type": "markdown",
      "source": [
        "# Goal :\n",
        "* Data Cleaning and EDA\n",
        "* Develop a model to predict demand for shared bikes\n",
        "* Find the Significant Variables for the model with appropriate metrics"
      ],
      "metadata": {
        "id": "ulkkYt6rw5Z-"
      }
    },
    {
      "cell_type": "code",
      "source": [
        "import pandas as pd\n",
        "import numpy as np\n",
        "import matplotlib.pyplot as plt\n",
        "import seaborn as sns"
      ],
      "metadata": {
        "id": "sJi9LVw5zn9X"
      },
      "execution_count": null,
      "outputs": []
    },
    {
      "cell_type": "markdown",
      "source": [
        ""
      ],
      "metadata": {
        "id": "jLXsiYnzxgxz"
      }
    },
    {
      "cell_type": "code",
      "source": [
        "!wget --no-check-certificate 'https://docs.google.com/uc?export=download&id=1WieH-IPBXkKPj46XCEsjAgShaRdZ3A9BTN2zz27jSN4' -O FILENAME"
      ],
      "metadata": {
        "colab": {
          "base_uri": "https://localhost:8080/"
        },
        "id": "NbKwcagP1PCj",
        "outputId": "3e9c8a27-5607-49b3-a77f-7da841ff30eb"
      },
      "execution_count": null,
      "outputs": [
        {
          "output_type": "stream",
          "name": "stdout",
          "text": [
            "--2022-07-30 11:19:47--  https://docs.google.com/uc?export=download&id=1WieH-IPBXkKPj46XCEsjAgShaRdZ3A9BTN2zz27jSN4\n",
            "Resolving docs.google.com (docs.google.com)... 142.250.157.113, 142.250.157.100, 142.250.157.101, ...\n",
            "Connecting to docs.google.com (docs.google.com)|142.250.157.113|:443... connected.\n",
            "HTTP request sent, awaiting response... 303 See Other\n",
            "Location: https://doc-10-5c-docs.googleusercontent.com/docs/securesc/ha0ro937gcuc7l7deffksulhg5h7mbp1/5luh7910h9463m7ljnjo9aqhr0ru2vsf/1659179925000/16708200409587199850/*/1WieH-IPBXkKPj46XCEsjAgShaRdZ3A9BTN2zz27jSN4?e=download&uuid=a197a72a-1aeb-403e-8230-5ca45bd71e31 [following]\n",
            "Warning: wildcards not supported in HTTP.\n",
            "--2022-07-30 11:19:48--  https://doc-10-5c-docs.googleusercontent.com/docs/securesc/ha0ro937gcuc7l7deffksulhg5h7mbp1/5luh7910h9463m7ljnjo9aqhr0ru2vsf/1659179925000/16708200409587199850/*/1WieH-IPBXkKPj46XCEsjAgShaRdZ3A9BTN2zz27jSN4?e=download&uuid=a197a72a-1aeb-403e-8230-5ca45bd71e31\n",
            "Resolving doc-10-5c-docs.googleusercontent.com (doc-10-5c-docs.googleusercontent.com)... 108.177.125.132, 2404:6800:4008:c01::84\n",
            "Connecting to doc-10-5c-docs.googleusercontent.com (doc-10-5c-docs.googleusercontent.com)|108.177.125.132|:443... connected.\n",
            "HTTP request sent, awaiting response... 500 Internal Server Error\n",
            "2022-07-30 11:19:48 ERROR 500: Internal Server Error.\n",
            "\n"
          ]
        }
      ]
    },
    {
      "cell_type": "code",
      "source": [
        "!wget --load-cookies /tmp/cookies.txt \"https://docs.google.com/uc?export=download&confirm=$(wget --quiet --save-cookies /tmp/cookies.txt --keep-session-cookies --no-check-certificate 'https://docs.google.com/uc?export=download&id=1WieH-IPBXkKPj46XCEsjAgShaRdZ3A9BTN2zz27jSN4' -O- | sed -rn 's/.*confirm=([0-9A-Za-z_]+).*/\\1\\n/p')&id=FILEID\" -O bikedata.csv && rm -rf /tmp/cookies.txt"
      ],
      "metadata": {
        "colab": {
          "base_uri": "https://localhost:8080/"
        },
        "id": "8840hmHB1mLC",
        "outputId": "e34c9588-2a0a-421c-ed28-b6b3be0a2d58"
      },
      "execution_count": null,
      "outputs": [
        {
          "output_type": "stream",
          "name": "stdout",
          "text": [
            "--2022-07-30 11:21:46--  https://docs.google.com/uc?export=download&confirm=&id=FILEID\n",
            "Resolving docs.google.com (docs.google.com)... 142.250.157.101, 142.250.157.138, 142.250.157.113, ...\n",
            "Connecting to docs.google.com (docs.google.com)|142.250.157.101|:443... connected.\n",
            "HTTP request sent, awaiting response... 404 Not Found\n",
            "2022-07-30 11:21:47 ERROR 404: Not Found.\n",
            "\n"
          ]
        }
      ]
    },
    {
      "cell_type": "code",
      "execution_count": null,
      "metadata": {
        "colab": {
          "base_uri": "https://localhost:8080/",
          "height": 504
        },
        "id": "pCuMW_HOvP72",
        "outputId": "6fc5e0b6-c7bb-43ed-843b-6ce4ab42ea25"
      },
      "outputs": [
        {
          "output_type": "stream",
          "name": "stdout",
          "text": [
            "--2022-07-30 11:18:03--  https://docs.google.com/uc?export=download&id=1WieH-IPBXkKPj46XCEsjAgShaRdZ3A9BTN2zz27jSN4\n",
            "Resolving docs.google.com (docs.google.com)... 142.250.157.113, 142.250.157.100, 142.250.157.101, ...\n",
            "Connecting to docs.google.com (docs.google.com)|142.250.157.113|:443... connected.\n",
            "HTTP request sent, awaiting response... 303 See Other\n",
            "Location: https://doc-10-5c-docs.googleusercontent.com/docs/securesc/ha0ro937gcuc7l7deffksulhg5h7mbp1/e8u1fmqfbd3fgsktfgp588tfpqn5dn0p/1659179850000/16708200409587199850/*/1WieH-IPBXkKPj46XCEsjAgShaRdZ3A9BTN2zz27jSN4?e=download&uuid=2bfb69bb-5853-4c0f-9f85-86942c899ddb [following]\n",
            "Warning: wildcards not supported in HTTP.\n",
            "--2022-07-30 11:18:03--  https://doc-10-5c-docs.googleusercontent.com/docs/securesc/ha0ro937gcuc7l7deffksulhg5h7mbp1/e8u1fmqfbd3fgsktfgp588tfpqn5dn0p/1659179850000/16708200409587199850/*/1WieH-IPBXkKPj46XCEsjAgShaRdZ3A9BTN2zz27jSN4?e=download&uuid=2bfb69bb-5853-4c0f-9f85-86942c899ddb\n",
            "Resolving doc-10-5c-docs.googleusercontent.com (doc-10-5c-docs.googleusercontent.com)... 108.177.125.132, 2404:6800:4008:c01::84\n",
            "Connecting to doc-10-5c-docs.googleusercontent.com (doc-10-5c-docs.googleusercontent.com)|108.177.125.132|:443... connected.\n",
            "HTTP request sent, awaiting response... 500 Internal Server Error\n",
            "2022-07-30 11:18:03 ERROR 500: Internal Server Error.\n",
            "\n"
          ]
        },
        {
          "output_type": "error",
          "ename": "EmptyDataError",
          "evalue": "ignored",
          "traceback": [
            "\u001b[0;31m---------------------------------------------------------------------------\u001b[0m",
            "\u001b[0;31mEmptyDataError\u001b[0m                            Traceback (most recent call last)",
            "\u001b[0;32m<ipython-input-16-ab25f50e5ac2>\u001b[0m in \u001b[0;36m<module>\u001b[0;34m()\u001b[0m\n\u001b[1;32m      1\u001b[0m \u001b[0mget_ipython\u001b[0m\u001b[0;34m(\u001b[0m\u001b[0;34m)\u001b[0m\u001b[0;34m.\u001b[0m\u001b[0msystem\u001b[0m\u001b[0;34m(\u001b[0m\u001b[0;34m'wget --no-check-certificate \"https://docs.google.com/uc?export=download&id=1WieH-IPBXkKPj46XCEsjAgShaRdZ3A9BTN2zz27jSN4\" -O \"bikedata.csv\"'\u001b[0m\u001b[0;34m)\u001b[0m\u001b[0;34m\u001b[0m\u001b[0;34m\u001b[0m\u001b[0m\n\u001b[0;32m----> 2\u001b[0;31m \u001b[0mdf\u001b[0m \u001b[0;34m=\u001b[0m \u001b[0mpd\u001b[0m\u001b[0;34m.\u001b[0m\u001b[0mread_csv\u001b[0m\u001b[0;34m(\u001b[0m\u001b[0;34m'bikedata.csv'\u001b[0m\u001b[0;34m)\u001b[0m\u001b[0;34m\u001b[0m\u001b[0;34m\u001b[0m\u001b[0m\n\u001b[0m\u001b[1;32m      3\u001b[0m \u001b[0mdf_bikes\u001b[0m \u001b[0;34m=\u001b[0m \u001b[0mdf\u001b[0m\u001b[0;34m.\u001b[0m\u001b[0mcopy\u001b[0m\u001b[0;34m(\u001b[0m\u001b[0;34m)\u001b[0m\u001b[0;34m\u001b[0m\u001b[0;34m\u001b[0m\u001b[0m\n",
            "\u001b[0;32m/usr/local/lib/python3.7/dist-packages/pandas/util/_decorators.py\u001b[0m in \u001b[0;36mwrapper\u001b[0;34m(*args, **kwargs)\u001b[0m\n\u001b[1;32m    309\u001b[0m                     \u001b[0mstacklevel\u001b[0m\u001b[0;34m=\u001b[0m\u001b[0mstacklevel\u001b[0m\u001b[0;34m,\u001b[0m\u001b[0;34m\u001b[0m\u001b[0;34m\u001b[0m\u001b[0m\n\u001b[1;32m    310\u001b[0m                 )\n\u001b[0;32m--> 311\u001b[0;31m             \u001b[0;32mreturn\u001b[0m \u001b[0mfunc\u001b[0m\u001b[0;34m(\u001b[0m\u001b[0;34m*\u001b[0m\u001b[0margs\u001b[0m\u001b[0;34m,\u001b[0m \u001b[0;34m**\u001b[0m\u001b[0mkwargs\u001b[0m\u001b[0;34m)\u001b[0m\u001b[0;34m\u001b[0m\u001b[0;34m\u001b[0m\u001b[0m\n\u001b[0m\u001b[1;32m    312\u001b[0m \u001b[0;34m\u001b[0m\u001b[0m\n\u001b[1;32m    313\u001b[0m         \u001b[0;32mreturn\u001b[0m \u001b[0mwrapper\u001b[0m\u001b[0;34m\u001b[0m\u001b[0;34m\u001b[0m\u001b[0m\n",
            "\u001b[0;32m/usr/local/lib/python3.7/dist-packages/pandas/io/parsers/readers.py\u001b[0m in \u001b[0;36mread_csv\u001b[0;34m(filepath_or_buffer, sep, delimiter, header, names, index_col, usecols, squeeze, prefix, mangle_dupe_cols, dtype, engine, converters, true_values, false_values, skipinitialspace, skiprows, skipfooter, nrows, na_values, keep_default_na, na_filter, verbose, skip_blank_lines, parse_dates, infer_datetime_format, keep_date_col, date_parser, dayfirst, cache_dates, iterator, chunksize, compression, thousands, decimal, lineterminator, quotechar, quoting, doublequote, escapechar, comment, encoding, encoding_errors, dialect, error_bad_lines, warn_bad_lines, on_bad_lines, delim_whitespace, low_memory, memory_map, float_precision, storage_options)\u001b[0m\n\u001b[1;32m    584\u001b[0m     \u001b[0mkwds\u001b[0m\u001b[0;34m.\u001b[0m\u001b[0mupdate\u001b[0m\u001b[0;34m(\u001b[0m\u001b[0mkwds_defaults\u001b[0m\u001b[0;34m)\u001b[0m\u001b[0;34m\u001b[0m\u001b[0;34m\u001b[0m\u001b[0m\n\u001b[1;32m    585\u001b[0m \u001b[0;34m\u001b[0m\u001b[0m\n\u001b[0;32m--> 586\u001b[0;31m     \u001b[0;32mreturn\u001b[0m \u001b[0m_read\u001b[0m\u001b[0;34m(\u001b[0m\u001b[0mfilepath_or_buffer\u001b[0m\u001b[0;34m,\u001b[0m \u001b[0mkwds\u001b[0m\u001b[0;34m)\u001b[0m\u001b[0;34m\u001b[0m\u001b[0;34m\u001b[0m\u001b[0m\n\u001b[0m\u001b[1;32m    587\u001b[0m \u001b[0;34m\u001b[0m\u001b[0m\n\u001b[1;32m    588\u001b[0m \u001b[0;34m\u001b[0m\u001b[0m\n",
            "\u001b[0;32m/usr/local/lib/python3.7/dist-packages/pandas/io/parsers/readers.py\u001b[0m in \u001b[0;36m_read\u001b[0;34m(filepath_or_buffer, kwds)\u001b[0m\n\u001b[1;32m    480\u001b[0m \u001b[0;34m\u001b[0m\u001b[0m\n\u001b[1;32m    481\u001b[0m     \u001b[0;31m# Create the parser.\u001b[0m\u001b[0;34m\u001b[0m\u001b[0;34m\u001b[0m\u001b[0;34m\u001b[0m\u001b[0m\n\u001b[0;32m--> 482\u001b[0;31m     \u001b[0mparser\u001b[0m \u001b[0;34m=\u001b[0m \u001b[0mTextFileReader\u001b[0m\u001b[0;34m(\u001b[0m\u001b[0mfilepath_or_buffer\u001b[0m\u001b[0;34m,\u001b[0m \u001b[0;34m**\u001b[0m\u001b[0mkwds\u001b[0m\u001b[0;34m)\u001b[0m\u001b[0;34m\u001b[0m\u001b[0;34m\u001b[0m\u001b[0m\n\u001b[0m\u001b[1;32m    483\u001b[0m \u001b[0;34m\u001b[0m\u001b[0m\n\u001b[1;32m    484\u001b[0m     \u001b[0;32mif\u001b[0m \u001b[0mchunksize\u001b[0m \u001b[0;32mor\u001b[0m \u001b[0miterator\u001b[0m\u001b[0;34m:\u001b[0m\u001b[0;34m\u001b[0m\u001b[0;34m\u001b[0m\u001b[0m\n",
            "\u001b[0;32m/usr/local/lib/python3.7/dist-packages/pandas/io/parsers/readers.py\u001b[0m in \u001b[0;36m__init__\u001b[0;34m(self, f, engine, **kwds)\u001b[0m\n\u001b[1;32m    809\u001b[0m             \u001b[0mself\u001b[0m\u001b[0;34m.\u001b[0m\u001b[0moptions\u001b[0m\u001b[0;34m[\u001b[0m\u001b[0;34m\"has_index_names\"\u001b[0m\u001b[0;34m]\u001b[0m \u001b[0;34m=\u001b[0m \u001b[0mkwds\u001b[0m\u001b[0;34m[\u001b[0m\u001b[0;34m\"has_index_names\"\u001b[0m\u001b[0;34m]\u001b[0m\u001b[0;34m\u001b[0m\u001b[0;34m\u001b[0m\u001b[0m\n\u001b[1;32m    810\u001b[0m \u001b[0;34m\u001b[0m\u001b[0m\n\u001b[0;32m--> 811\u001b[0;31m         \u001b[0mself\u001b[0m\u001b[0;34m.\u001b[0m\u001b[0m_engine\u001b[0m \u001b[0;34m=\u001b[0m \u001b[0mself\u001b[0m\u001b[0;34m.\u001b[0m\u001b[0m_make_engine\u001b[0m\u001b[0;34m(\u001b[0m\u001b[0mself\u001b[0m\u001b[0;34m.\u001b[0m\u001b[0mengine\u001b[0m\u001b[0;34m)\u001b[0m\u001b[0;34m\u001b[0m\u001b[0;34m\u001b[0m\u001b[0m\n\u001b[0m\u001b[1;32m    812\u001b[0m \u001b[0;34m\u001b[0m\u001b[0m\n\u001b[1;32m    813\u001b[0m     \u001b[0;32mdef\u001b[0m \u001b[0mclose\u001b[0m\u001b[0;34m(\u001b[0m\u001b[0mself\u001b[0m\u001b[0;34m)\u001b[0m\u001b[0;34m:\u001b[0m\u001b[0;34m\u001b[0m\u001b[0;34m\u001b[0m\u001b[0m\n",
            "\u001b[0;32m/usr/local/lib/python3.7/dist-packages/pandas/io/parsers/readers.py\u001b[0m in \u001b[0;36m_make_engine\u001b[0;34m(self, engine)\u001b[0m\n\u001b[1;32m   1038\u001b[0m             )\n\u001b[1;32m   1039\u001b[0m         \u001b[0;31m# error: Too many arguments for \"ParserBase\"\u001b[0m\u001b[0;34m\u001b[0m\u001b[0;34m\u001b[0m\u001b[0;34m\u001b[0m\u001b[0m\n\u001b[0;32m-> 1040\u001b[0;31m         \u001b[0;32mreturn\u001b[0m \u001b[0mmapping\u001b[0m\u001b[0;34m[\u001b[0m\u001b[0mengine\u001b[0m\u001b[0;34m]\u001b[0m\u001b[0;34m(\u001b[0m\u001b[0mself\u001b[0m\u001b[0;34m.\u001b[0m\u001b[0mf\u001b[0m\u001b[0;34m,\u001b[0m \u001b[0;34m**\u001b[0m\u001b[0mself\u001b[0m\u001b[0;34m.\u001b[0m\u001b[0moptions\u001b[0m\u001b[0;34m)\u001b[0m  \u001b[0;31m# type: ignore[call-arg]\u001b[0m\u001b[0;34m\u001b[0m\u001b[0;34m\u001b[0m\u001b[0m\n\u001b[0m\u001b[1;32m   1041\u001b[0m \u001b[0;34m\u001b[0m\u001b[0m\n\u001b[1;32m   1042\u001b[0m     \u001b[0;32mdef\u001b[0m \u001b[0m_failover_to_python\u001b[0m\u001b[0;34m(\u001b[0m\u001b[0mself\u001b[0m\u001b[0;34m)\u001b[0m\u001b[0;34m:\u001b[0m\u001b[0;34m\u001b[0m\u001b[0;34m\u001b[0m\u001b[0m\n",
            "\u001b[0;32m/usr/local/lib/python3.7/dist-packages/pandas/io/parsers/c_parser_wrapper.py\u001b[0m in \u001b[0;36m__init__\u001b[0;34m(self, src, **kwds)\u001b[0m\n\u001b[1;32m     67\u001b[0m         \u001b[0mkwds\u001b[0m\u001b[0;34m[\u001b[0m\u001b[0;34m\"dtype\"\u001b[0m\u001b[0;34m]\u001b[0m \u001b[0;34m=\u001b[0m \u001b[0mensure_dtype_objs\u001b[0m\u001b[0;34m(\u001b[0m\u001b[0mkwds\u001b[0m\u001b[0;34m.\u001b[0m\u001b[0mget\u001b[0m\u001b[0;34m(\u001b[0m\u001b[0;34m\"dtype\"\u001b[0m\u001b[0;34m,\u001b[0m \u001b[0;32mNone\u001b[0m\u001b[0;34m)\u001b[0m\u001b[0;34m)\u001b[0m\u001b[0;34m\u001b[0m\u001b[0;34m\u001b[0m\u001b[0m\n\u001b[1;32m     68\u001b[0m         \u001b[0;32mtry\u001b[0m\u001b[0;34m:\u001b[0m\u001b[0;34m\u001b[0m\u001b[0;34m\u001b[0m\u001b[0m\n\u001b[0;32m---> 69\u001b[0;31m             \u001b[0mself\u001b[0m\u001b[0;34m.\u001b[0m\u001b[0m_reader\u001b[0m \u001b[0;34m=\u001b[0m \u001b[0mparsers\u001b[0m\u001b[0;34m.\u001b[0m\u001b[0mTextReader\u001b[0m\u001b[0;34m(\u001b[0m\u001b[0mself\u001b[0m\u001b[0;34m.\u001b[0m\u001b[0mhandles\u001b[0m\u001b[0;34m.\u001b[0m\u001b[0mhandle\u001b[0m\u001b[0;34m,\u001b[0m \u001b[0;34m**\u001b[0m\u001b[0mkwds\u001b[0m\u001b[0;34m)\u001b[0m\u001b[0;34m\u001b[0m\u001b[0;34m\u001b[0m\u001b[0m\n\u001b[0m\u001b[1;32m     70\u001b[0m         \u001b[0;32mexcept\u001b[0m \u001b[0mException\u001b[0m\u001b[0;34m:\u001b[0m\u001b[0;34m\u001b[0m\u001b[0;34m\u001b[0m\u001b[0m\n\u001b[1;32m     71\u001b[0m             \u001b[0mself\u001b[0m\u001b[0;34m.\u001b[0m\u001b[0mhandles\u001b[0m\u001b[0;34m.\u001b[0m\u001b[0mclose\u001b[0m\u001b[0;34m(\u001b[0m\u001b[0;34m)\u001b[0m\u001b[0;34m\u001b[0m\u001b[0;34m\u001b[0m\u001b[0m\n",
            "\u001b[0;32m/usr/local/lib/python3.7/dist-packages/pandas/_libs/parsers.pyx\u001b[0m in \u001b[0;36mpandas._libs.parsers.TextReader.__cinit__\u001b[0;34m()\u001b[0m\n",
            "\u001b[0;31mEmptyDataError\u001b[0m: No columns to parse from file"
          ]
        }
      ],
      "source": [
        "!wget --no-check-certificate \"https://docs.google.com/uc?export=download&id=1WieH-IPBXkKPj46XCEsjAgShaRdZ3A9BTN2zz27jSN4\" -O \"bikedata.csv\"\n",
        "df = pd.read_csv('bikedata.csv')\n",
        "df_bikes = df.copy()"
      ]
    },
    {
      "cell_type": "code",
      "source": [
        "!wget --help"
      ],
      "metadata": {
        "colab": {
          "base_uri": "https://localhost:8080/"
        },
        "id": "b1IXac8ZymRJ",
        "outputId": "783ed140-080f-49f1-a131-c27d2b4397f8"
      },
      "execution_count": null,
      "outputs": [
        {
          "output_type": "stream",
          "name": "stdout",
          "text": [
            "GNU Wget 1.19.4, a non-interactive network retriever.\n",
            "Usage: wget [OPTION]... [URL]...\n",
            "\n",
            "Mandatory arguments to long options are mandatory for short options too.\n",
            "\n",
            "Startup:\n",
            "  -V,  --version                   display the version of Wget and exit\n",
            "  -h,  --help                      print this help\n",
            "  -b,  --background                go to background after startup\n",
            "  -e,  --execute=COMMAND           execute a `.wgetrc'-style command\n",
            "\n",
            "Logging and input file:\n",
            "  -o,  --output-file=FILE          log messages to FILE\n",
            "  -a,  --append-output=FILE        append messages to FILE\n",
            "  -d,  --debug                     print lots of debugging information\n",
            "  -q,  --quiet                     quiet (no output)\n",
            "  -v,  --verbose                   be verbose (this is the default)\n",
            "  -nv, --no-verbose                turn off verboseness, without being quiet\n",
            "       --report-speed=TYPE         output bandwidth as TYPE.  TYPE can be bits\n",
            "  -i,  --input-file=FILE           download URLs found in local or external FILE\n",
            "  -F,  --force-html                treat input file as HTML\n",
            "  -B,  --base=URL                  resolves HTML input-file links (-i -F)\n",
            "                                     relative to URL\n",
            "       --config=FILE               specify config file to use\n",
            "       --no-config                 do not read any config file\n",
            "       --rejected-log=FILE         log reasons for URL rejection to FILE\n",
            "\n",
            "Download:\n",
            "  -t,  --tries=NUMBER              set number of retries to NUMBER (0 unlimits)\n",
            "       --retry-connrefused         retry even if connection is refused\n",
            "  -O,  --output-document=FILE      write documents to FILE\n",
            "  -nc, --no-clobber                skip downloads that would download to\n",
            "                                     existing files (overwriting them)\n",
            "       --no-netrc                  don't try to obtain credentials from .netrc\n",
            "  -c,  --continue                  resume getting a partially-downloaded file\n",
            "       --start-pos=OFFSET          start downloading from zero-based position OFFSET\n",
            "       --progress=TYPE             select progress gauge type\n",
            "       --show-progress             display the progress bar in any verbosity mode\n",
            "  -N,  --timestamping              don't re-retrieve files unless newer than\n",
            "                                     local\n",
            "       --no-if-modified-since      don't use conditional if-modified-since get\n",
            "                                     requests in timestamping mode\n",
            "       --no-use-server-timestamps  don't set the local file's timestamp by\n",
            "                                     the one on the server\n",
            "  -S,  --server-response           print server response\n",
            "       --spider                    don't download anything\n",
            "  -T,  --timeout=SECONDS           set all timeout values to SECONDS\n",
            "       --dns-timeout=SECS          set the DNS lookup timeout to SECS\n",
            "       --connect-timeout=SECS      set the connect timeout to SECS\n",
            "       --read-timeout=SECS         set the read timeout to SECS\n",
            "  -w,  --wait=SECONDS              wait SECONDS between retrievals\n",
            "       --waitretry=SECONDS         wait 1..SECONDS between retries of a retrieval\n",
            "       --random-wait               wait from 0.5*WAIT...1.5*WAIT secs between retrievals\n",
            "       --no-proxy                  explicitly turn off proxy\n",
            "  -Q,  --quota=NUMBER              set retrieval quota to NUMBER\n",
            "       --bind-address=ADDRESS      bind to ADDRESS (hostname or IP) on local host\n",
            "       --limit-rate=RATE           limit download rate to RATE\n",
            "       --no-dns-cache              disable caching DNS lookups\n",
            "       --restrict-file-names=OS    restrict chars in file names to ones OS allows\n",
            "       --ignore-case               ignore case when matching files/directories\n",
            "  -4,  --inet4-only                connect only to IPv4 addresses\n",
            "  -6,  --inet6-only                connect only to IPv6 addresses\n",
            "       --prefer-family=FAMILY      connect first to addresses of specified family,\n",
            "                                     one of IPv6, IPv4, or none\n",
            "       --user=USER                 set both ftp and http user to USER\n",
            "       --password=PASS             set both ftp and http password to PASS\n",
            "       --ask-password              prompt for passwords\n",
            "       --use-askpass=COMMAND       specify credential handler for requesting \n",
            "                                     username and password.  If no COMMAND is \n",
            "                                     specified the WGET_ASKPASS or the SSH_ASKPASS \n",
            "                                     environment variable is used.\n",
            "       --no-iri                    turn off IRI support\n",
            "       --local-encoding=ENC        use ENC as the local encoding for IRIs\n",
            "       --remote-encoding=ENC       use ENC as the default remote encoding\n",
            "       --unlink                    remove file before clobber\n",
            "       --xattr                     turn on storage of metadata in extended file attributes\n",
            "\n",
            "Directories:\n",
            "  -nd, --no-directories            don't create directories\n",
            "  -x,  --force-directories         force creation of directories\n",
            "  -nH, --no-host-directories       don't create host directories\n",
            "       --protocol-directories      use protocol name in directories\n",
            "  -P,  --directory-prefix=PREFIX   save files to PREFIX/..\n",
            "       --cut-dirs=NUMBER           ignore NUMBER remote directory components\n",
            "\n",
            "HTTP options:\n",
            "       --http-user=USER            set http user to USER\n",
            "       --http-password=PASS        set http password to PASS\n",
            "       --no-cache                  disallow server-cached data\n",
            "       --default-page=NAME         change the default page name (normally\n",
            "                                     this is 'index.html'.)\n",
            "  -E,  --adjust-extension          save HTML/CSS documents with proper extensions\n",
            "       --ignore-length             ignore 'Content-Length' header field\n",
            "       --header=STRING             insert STRING among the headers\n",
            "       --max-redirect              maximum redirections allowed per page\n",
            "       --proxy-user=USER           set USER as proxy username\n",
            "       --proxy-password=PASS       set PASS as proxy password\n",
            "       --referer=URL               include 'Referer: URL' header in HTTP request\n",
            "       --save-headers              save the HTTP headers to file\n",
            "  -U,  --user-agent=AGENT          identify as AGENT instead of Wget/VERSION\n",
            "       --no-http-keep-alive        disable HTTP keep-alive (persistent connections)\n",
            "       --no-cookies                don't use cookies\n",
            "       --load-cookies=FILE         load cookies from FILE before session\n",
            "       --save-cookies=FILE         save cookies to FILE after session\n",
            "       --keep-session-cookies      load and save session (non-permanent) cookies\n",
            "       --post-data=STRING          use the POST method; send STRING as the data\n",
            "       --post-file=FILE            use the POST method; send contents of FILE\n",
            "       --method=HTTPMethod         use method \"HTTPMethod\" in the request\n",
            "       --body-data=STRING          send STRING as data. --method MUST be set\n",
            "       --body-file=FILE            send contents of FILE. --method MUST be set\n",
            "       --content-disposition       honor the Content-Disposition header when\n",
            "                                     choosing local file names (EXPERIMENTAL)\n",
            "       --content-on-error          output the received content on server errors\n",
            "       --auth-no-challenge         send Basic HTTP authentication information\n",
            "                                     without first waiting for the server's\n",
            "                                     challenge\n",
            "\n",
            "HTTPS (SSL/TLS) options:\n",
            "       --secure-protocol=PR        choose secure protocol, one of auto, SSLv2,\n",
            "                                     SSLv3, TLSv1, TLSv1_1, TLSv1_2 and PFS\n",
            "       --https-only                only follow secure HTTPS links\n",
            "       --no-check-certificate      don't validate the server's certificate\n",
            "       --certificate=FILE          client certificate file\n",
            "       --certificate-type=TYPE     client certificate type, PEM or DER\n",
            "       --private-key=FILE          private key file\n",
            "       --private-key-type=TYPE     private key type, PEM or DER\n",
            "       --ca-certificate=FILE       file with the bundle of CAs\n",
            "       --ca-directory=DIR          directory where hash list of CAs is stored\n",
            "       --crl-file=FILE             file with bundle of CRLs\n",
            "       --pinnedpubkey=FILE/HASHES  Public key (PEM/DER) file, or any number\n",
            "                                   of base64 encoded sha256 hashes preceded by\n",
            "                                   'sha256//' and separated by ';', to verify\n",
            "                                   peer against\n",
            "       --random-file=FILE          file with random data for seeding the SSL PRNG\n",
            "\n",
            "HSTS options:\n",
            "       --no-hsts                   disable HSTS\n",
            "       --hsts-file                 path of HSTS database (will override default)\n",
            "\n",
            "FTP options:\n",
            "       --ftp-user=USER             set ftp user to USER\n",
            "       --ftp-password=PASS         set ftp password to PASS\n",
            "       --no-remove-listing         don't remove '.listing' files\n",
            "       --no-glob                   turn off FTP file name globbing\n",
            "       --no-passive-ftp            disable the \"passive\" transfer mode\n",
            "       --preserve-permissions      preserve remote file permissions\n",
            "       --retr-symlinks             when recursing, get linked-to files (not dir)\n",
            "\n",
            "FTPS options:\n",
            "       --ftps-implicit                 use implicit FTPS (default port is 990)\n",
            "       --ftps-resume-ssl               resume the SSL/TLS session started in the control connection when\n",
            "                                         opening a data connection\n",
            "       --ftps-clear-data-connection    cipher the control channel only; all the data will be in plaintext\n",
            "       --ftps-fallback-to-ftp          fall back to FTP if FTPS is not supported in the target server\n",
            "WARC options:\n",
            "       --warc-file=FILENAME        save request/response data to a .warc.gz file\n",
            "       --warc-header=STRING        insert STRING into the warcinfo record\n",
            "       --warc-max-size=NUMBER      set maximum size of WARC files to NUMBER\n",
            "       --warc-cdx                  write CDX index files\n",
            "       --warc-dedup=FILENAME       do not store records listed in this CDX file\n",
            "       --no-warc-digests           do not calculate SHA1 digests\n",
            "       --no-warc-keep-log          do not store the log file in a WARC record\n",
            "       --warc-tempdir=DIRECTORY    location for temporary files created by the\n",
            "                                     WARC writer\n",
            "\n",
            "Recursive download:\n",
            "  -r,  --recursive                 specify recursive download\n",
            "  -l,  --level=NUMBER              maximum recursion depth (inf or 0 for infinite)\n",
            "       --delete-after              delete files locally after downloading them\n",
            "  -k,  --convert-links             make links in downloaded HTML or CSS point to\n",
            "                                     local files\n",
            "       --convert-file-only         convert the file part of the URLs only (usually known as the basename)\n",
            "       --backups=N                 before writing file X, rotate up to N backup files\n",
            "  -K,  --backup-converted          before converting file X, back up as X.orig\n",
            "  -m,  --mirror                    shortcut for -N -r -l inf --no-remove-listing\n",
            "  -p,  --page-requisites           get all images, etc. needed to display HTML page\n",
            "       --strict-comments           turn on strict (SGML) handling of HTML comments\n",
            "\n",
            "Recursive accept/reject:\n",
            "  -A,  --accept=LIST               comma-separated list of accepted extensions\n",
            "  -R,  --reject=LIST               comma-separated list of rejected extensions\n",
            "       --accept-regex=REGEX        regex matching accepted URLs\n",
            "       --reject-regex=REGEX        regex matching rejected URLs\n",
            "       --regex-type=TYPE           regex type (posix|pcre)\n",
            "  -D,  --domains=LIST              comma-separated list of accepted domains\n",
            "       --exclude-domains=LIST      comma-separated list of rejected domains\n",
            "       --follow-ftp                follow FTP links from HTML documents\n",
            "       --follow-tags=LIST          comma-separated list of followed HTML tags\n",
            "       --ignore-tags=LIST          comma-separated list of ignored HTML tags\n",
            "  -H,  --span-hosts                go to foreign hosts when recursive\n",
            "  -L,  --relative                  follow relative links only\n",
            "  -I,  --include-directories=LIST  list of allowed directories\n",
            "       --trust-server-names        use the name specified by the redirection\n",
            "                                     URL's last component\n",
            "  -X,  --exclude-directories=LIST  list of excluded directories\n",
            "  -np, --no-parent                 don't ascend to the parent directory\n",
            "\n",
            "Mail bug reports and suggestions to <bug-wget@gnu.org>\n"
          ]
        }
      ]
    }
  ]
}